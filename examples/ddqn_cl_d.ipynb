{
 "cells": [
  {
   "cell_type": "markdown",
   "source": [
    "# Duelling Deep Q-Networks on Crude Oil daily data\n",
    "\n",
    "In this notebook a recurrent DQN model is trained on the crude oil daily dataset, enriched with the various tecnical indicators and the crude oil implied volatility index `OVX`.\n",
    "\n",
    "The importance of **implied volatility** for market participants stems from the fact that it is one of the only data that is **forward-looking**. This is because market participants always trade contracts with an expiration date later in time. \n",
    "\n",
    "The goal of this notebook is to see how (if it is possible) a DQN trading agent can leverage this kind of data to learn a profitable trading strategy. "
   ],
   "metadata": {
    "collapsed": false,
    "pycharm": {
     "name": "#%% md\n"
    }
   }
  },
  {
   "cell_type": "code",
   "execution_count": 1,
   "outputs": [],
   "source": [
    "from datetime import datetime\n",
    "from pathlib import Path\n",
    "\n",
    "import matplotlib.pyplot as plt\n",
    "import numpy as np\n",
    "import pandas as pd\n",
    "import quantstats as qs\n",
    "\n",
    "import torch\n",
    "\n",
    "from gym_anytrading.agents.DDQN_agent import DDQNTradingAgent\n",
    "from gym_anytrading.envs.future_env import FuturesEnv\n",
    "from utils import MetricLogger"
   ],
   "metadata": {
    "collapsed": false,
    "pycharm": {
     "name": "#%%\n"
    }
   }
  },
  {
   "cell_type": "code",
   "execution_count": 2,
   "outputs": [],
   "source": [
    "torch.manual_seed(0)\n",
    "np.random.seed(0)"
   ],
   "metadata": {
    "collapsed": false,
    "pycharm": {
     "name": "#%%\n"
    }
   }
  },
  {
   "cell_type": "code",
   "execution_count": 6,
   "outputs": [],
   "source": [
    "data_path = 'data/CL_daily_adj.csv'\n",
    "window_size = 115\n",
    "save_dir = Path(\"models/ddqn_cl_checkpoints\") / datetime.now().strftime(\"%Y-%m-%dT%H-%M-%S\")\n",
    "episodes = 400"
   ],
   "metadata": {
    "collapsed": false,
    "pycharm": {
     "name": "#%%\n"
    }
   }
  },
  {
   "cell_type": "code",
   "execution_count": 9,
   "outputs": [
    {
     "data": {
      "text/plain": "              open    high     low   close        MA  Smoothing Line  \\\nDate                                                                   \n2007-05-11   61.89   62.56   61.68   62.37  62.28530        62.40756   \n2007-05-14   62.43   63.07   62.14   62.46  62.23140        62.34749   \n2007-05-15   62.54   63.30   62.07   63.17  62.17525        62.28898   \n2007-05-16   63.15   63.30   61.90   62.55  62.11345        62.23031   \n2007-05-17   62.62   65.09   62.48   64.86  62.05870        62.17282   \n...            ...     ...     ...     ...       ...             ...   \n2022-06-07  119.10  120.36  117.14  119.41  88.46825        87.91657   \n2022-06-08  119.79  123.18  119.30  122.11  88.75060        88.18925   \n2022-06-09  122.43  122.72  120.79  121.51  89.02045        88.46562   \n2022-06-10  121.46  122.75  118.33  120.67  89.28200        88.74064   \n2022-06-13  120.19  122.25  117.47  120.85  89.54915        89.01409   \n\n                MA.1  Smoothing Line.1  Volume  Volume MA       ATR  \\\nDate                                                                  \n2007-05-11   62.5848          62.57444  216920  228967.65  1.595914   \n2007-05-14   62.6012          62.58312  200433  227399.15  1.548348   \n2007-05-15   62.6632          62.60072  185334  225779.35  1.525609   \n2007-05-16   62.7004          62.62540  216160  225719.05  1.516637   \n2007-05-17   62.7612          62.66216  267955  228258.40  1.594734   \n...              ...               ...     ...        ...       ...   \n2022-06-07  106.4996         106.27560  313707  283652.20  4.639687   \n2022-06-08  106.8226         106.43304  306204  279474.90  4.585424   \n2022-06-09  107.1680         106.62916  254996  273089.65  4.395751   \n2022-06-10  107.4250         106.86092  352906  274557.60  4.397483   \n2022-06-13  107.8364         107.15032  332004  279108.35  4.424806   \n\n                  RSI  RSI-based MA  open_ovx  high_ovx  low_ovx  close_ovx  \nDate                                                                         \n2007-05-11  46.550818     50.353979     26.41     26.41    26.41      26.41  \n2007-05-14  46.999236     49.685978     27.23     27.23    27.23      27.23  \n2007-05-15  50.525568     48.967185     27.89     27.89    27.89      27.89  \n2007-05-16  47.550389     48.298946     27.07     27.07    27.07      27.07  \n2007-05-17  57.574277     48.023056     24.86     24.86    24.86      24.86  \n...               ...           ...       ...       ...      ...        ...  \n2022-06-07  66.026135     59.179643     51.30     51.47    45.67      45.88  \n2022-06-08  69.365176     60.446540     49.48     49.55    44.37      44.37  \n2022-06-09  67.771155     61.375703     47.50     47.50    43.02      43.87  \n2022-06-10  65.501720     62.112201     49.47     49.54    42.84      42.92  \n2022-06-13  65.766268     62.866760     56.33     56.33    46.61      47.56  \n\n[3660 rows x 17 columns]",
      "text/html": "<div>\n<style scoped>\n    .dataframe tbody tr th:only-of-type {\n        vertical-align: middle;\n    }\n\n    .dataframe tbody tr th {\n        vertical-align: top;\n    }\n\n    .dataframe thead th {\n        text-align: right;\n    }\n</style>\n<table border=\"1\" class=\"dataframe\">\n  <thead>\n    <tr style=\"text-align: right;\">\n      <th></th>\n      <th>open</th>\n      <th>high</th>\n      <th>low</th>\n      <th>close</th>\n      <th>MA</th>\n      <th>Smoothing Line</th>\n      <th>MA.1</th>\n      <th>Smoothing Line.1</th>\n      <th>Volume</th>\n      <th>Volume MA</th>\n      <th>ATR</th>\n      <th>RSI</th>\n      <th>RSI-based MA</th>\n      <th>open_ovx</th>\n      <th>high_ovx</th>\n      <th>low_ovx</th>\n      <th>close_ovx</th>\n    </tr>\n    <tr>\n      <th>Date</th>\n      <th></th>\n      <th></th>\n      <th></th>\n      <th></th>\n      <th></th>\n      <th></th>\n      <th></th>\n      <th></th>\n      <th></th>\n      <th></th>\n      <th></th>\n      <th></th>\n      <th></th>\n      <th></th>\n      <th></th>\n      <th></th>\n      <th></th>\n    </tr>\n  </thead>\n  <tbody>\n    <tr>\n      <th>2007-05-11</th>\n      <td>61.89</td>\n      <td>62.56</td>\n      <td>61.68</td>\n      <td>62.37</td>\n      <td>62.28530</td>\n      <td>62.40756</td>\n      <td>62.5848</td>\n      <td>62.57444</td>\n      <td>216920</td>\n      <td>228967.65</td>\n      <td>1.595914</td>\n      <td>46.550818</td>\n      <td>50.353979</td>\n      <td>26.41</td>\n      <td>26.41</td>\n      <td>26.41</td>\n      <td>26.41</td>\n    </tr>\n    <tr>\n      <th>2007-05-14</th>\n      <td>62.43</td>\n      <td>63.07</td>\n      <td>62.14</td>\n      <td>62.46</td>\n      <td>62.23140</td>\n      <td>62.34749</td>\n      <td>62.6012</td>\n      <td>62.58312</td>\n      <td>200433</td>\n      <td>227399.15</td>\n      <td>1.548348</td>\n      <td>46.999236</td>\n      <td>49.685978</td>\n      <td>27.23</td>\n      <td>27.23</td>\n      <td>27.23</td>\n      <td>27.23</td>\n    </tr>\n    <tr>\n      <th>2007-05-15</th>\n      <td>62.54</td>\n      <td>63.30</td>\n      <td>62.07</td>\n      <td>63.17</td>\n      <td>62.17525</td>\n      <td>62.28898</td>\n      <td>62.6632</td>\n      <td>62.60072</td>\n      <td>185334</td>\n      <td>225779.35</td>\n      <td>1.525609</td>\n      <td>50.525568</td>\n      <td>48.967185</td>\n      <td>27.89</td>\n      <td>27.89</td>\n      <td>27.89</td>\n      <td>27.89</td>\n    </tr>\n    <tr>\n      <th>2007-05-16</th>\n      <td>63.15</td>\n      <td>63.30</td>\n      <td>61.90</td>\n      <td>62.55</td>\n      <td>62.11345</td>\n      <td>62.23031</td>\n      <td>62.7004</td>\n      <td>62.62540</td>\n      <td>216160</td>\n      <td>225719.05</td>\n      <td>1.516637</td>\n      <td>47.550389</td>\n      <td>48.298946</td>\n      <td>27.07</td>\n      <td>27.07</td>\n      <td>27.07</td>\n      <td>27.07</td>\n    </tr>\n    <tr>\n      <th>2007-05-17</th>\n      <td>62.62</td>\n      <td>65.09</td>\n      <td>62.48</td>\n      <td>64.86</td>\n      <td>62.05870</td>\n      <td>62.17282</td>\n      <td>62.7612</td>\n      <td>62.66216</td>\n      <td>267955</td>\n      <td>228258.40</td>\n      <td>1.594734</td>\n      <td>57.574277</td>\n      <td>48.023056</td>\n      <td>24.86</td>\n      <td>24.86</td>\n      <td>24.86</td>\n      <td>24.86</td>\n    </tr>\n    <tr>\n      <th>...</th>\n      <td>...</td>\n      <td>...</td>\n      <td>...</td>\n      <td>...</td>\n      <td>...</td>\n      <td>...</td>\n      <td>...</td>\n      <td>...</td>\n      <td>...</td>\n      <td>...</td>\n      <td>...</td>\n      <td>...</td>\n      <td>...</td>\n      <td>...</td>\n      <td>...</td>\n      <td>...</td>\n      <td>...</td>\n    </tr>\n    <tr>\n      <th>2022-06-07</th>\n      <td>119.10</td>\n      <td>120.36</td>\n      <td>117.14</td>\n      <td>119.41</td>\n      <td>88.46825</td>\n      <td>87.91657</td>\n      <td>106.4996</td>\n      <td>106.27560</td>\n      <td>313707</td>\n      <td>283652.20</td>\n      <td>4.639687</td>\n      <td>66.026135</td>\n      <td>59.179643</td>\n      <td>51.30</td>\n      <td>51.47</td>\n      <td>45.67</td>\n      <td>45.88</td>\n    </tr>\n    <tr>\n      <th>2022-06-08</th>\n      <td>119.79</td>\n      <td>123.18</td>\n      <td>119.30</td>\n      <td>122.11</td>\n      <td>88.75060</td>\n      <td>88.18925</td>\n      <td>106.8226</td>\n      <td>106.43304</td>\n      <td>306204</td>\n      <td>279474.90</td>\n      <td>4.585424</td>\n      <td>69.365176</td>\n      <td>60.446540</td>\n      <td>49.48</td>\n      <td>49.55</td>\n      <td>44.37</td>\n      <td>44.37</td>\n    </tr>\n    <tr>\n      <th>2022-06-09</th>\n      <td>122.43</td>\n      <td>122.72</td>\n      <td>120.79</td>\n      <td>121.51</td>\n      <td>89.02045</td>\n      <td>88.46562</td>\n      <td>107.1680</td>\n      <td>106.62916</td>\n      <td>254996</td>\n      <td>273089.65</td>\n      <td>4.395751</td>\n      <td>67.771155</td>\n      <td>61.375703</td>\n      <td>47.50</td>\n      <td>47.50</td>\n      <td>43.02</td>\n      <td>43.87</td>\n    </tr>\n    <tr>\n      <th>2022-06-10</th>\n      <td>121.46</td>\n      <td>122.75</td>\n      <td>118.33</td>\n      <td>120.67</td>\n      <td>89.28200</td>\n      <td>88.74064</td>\n      <td>107.4250</td>\n      <td>106.86092</td>\n      <td>352906</td>\n      <td>274557.60</td>\n      <td>4.397483</td>\n      <td>65.501720</td>\n      <td>62.112201</td>\n      <td>49.47</td>\n      <td>49.54</td>\n      <td>42.84</td>\n      <td>42.92</td>\n    </tr>\n    <tr>\n      <th>2022-06-13</th>\n      <td>120.19</td>\n      <td>122.25</td>\n      <td>117.47</td>\n      <td>120.85</td>\n      <td>89.54915</td>\n      <td>89.01409</td>\n      <td>107.8364</td>\n      <td>107.15032</td>\n      <td>332004</td>\n      <td>279108.35</td>\n      <td>4.424806</td>\n      <td>65.766268</td>\n      <td>62.866760</td>\n      <td>56.33</td>\n      <td>56.33</td>\n      <td>46.61</td>\n      <td>47.56</td>\n    </tr>\n  </tbody>\n</table>\n<p>3660 rows × 17 columns</p>\n</div>"
     },
     "execution_count": 9,
     "metadata": {},
     "output_type": "execute_result"
    }
   ],
   "source": [
    "cl_df = pd.read_csv(data_path, index_col=0, parse_dates=True)\n",
    "cl_df"
   ],
   "metadata": {
    "collapsed": false,
    "pycharm": {
     "name": "#%%\n"
    }
   }
  },
  {
   "cell_type": "code",
   "execution_count": 10,
   "outputs": [
    {
     "data": {
      "text/plain": "<AxesSubplot:xlabel='Date'>"
     },
     "execution_count": 10,
     "metadata": {},
     "output_type": "execute_result"
    },
    {
     "data": {
      "text/plain": "<Figure size 432x288 with 1 Axes>",
      "image/png": "[encoded data removed]"
     },
     "metadata": {
      "needs_background": "light"
     },
     "output_type": "display_data"
    }
   ],
   "source": [
    "cl_df.close.plot()"
   ],
   "metadata": {
    "collapsed": false,
    "pycharm": {
     "name": "#%%\n"
    }
   }
  },
  {
   "cell_type": "markdown",
   "source": [
    "## Preprocessing\n",
    "\n",
    "The preprocessing phase consist in the following phases:\n",
    "\n",
    "- addition of cyclical features for the time-related variables\n",
    "- standardization of the data"
   ],
   "metadata": {
    "collapsed": false,
    "pycharm": {
     "name": "#%% md\n"
    }
   }
  },
  {
   "cell_type": "code",
   "execution_count": 11,
   "outputs": [],
   "source": [
    "def add_cyclical_features(df):\n",
    "    df['date'] = pd.to_datetime(df.index.copy(), format='%Y-%m-%d')\n",
    "    df['day_sin'] = df['date'].apply(lambda x: np.sin(x.day * (2. * np.pi / 30)))\n",
    "    df['day_cos'] = df['date'].apply(lambda x: np.cos(x.day * (2. * np.pi / 30)))\n",
    "    df['month_sin'] = df['date'].apply(lambda x: np.sin(x.month * (2. * np.pi / 12)))\n",
    "    df['month_cos'] = df['date'].apply(lambda x: np.cos(x.month * (2. * np.pi / 12)))\n",
    "    df = df.drop('date', axis=1)\n",
    "    return df"
   ],
   "metadata": {
    "collapsed": false,
    "pycharm": {
     "name": "#%%\n"
    }
   }
  },
  {
   "cell_type": "code",
   "execution_count": 12,
   "outputs": [],
   "source": [
    "cl_df = add_cyclical_features(cl_df)"
   ],
   "metadata": {
    "collapsed": false,
    "pycharm": {
     "name": "#%%\n"
    }
   }
  },
  {
   "cell_type": "markdown",
   "source": [
    "## Train Loop"
   ],
   "metadata": {
    "collapsed": false,
    "pycharm": {
     "name": "#%% md\n"
    }
   }
  },
  {
   "cell_type": "code",
   "execution_count": 13,
   "outputs": [],
   "source": [
    "def train_loop(env, episodes: int, agent, logger):\n",
    "    for episode in range(episodes):\n",
    "\n",
    "        state = env.reset()\n",
    "\n",
    "        while True:\n",
    "\n",
    "            action = agent.act(state)\n",
    "\n",
    "            next_state, reward, done, info = env.step(action)\n",
    "\n",
    "            agent.cache(state, next_state, action, reward, done)\n",
    "\n",
    "            q, loss = agent.learn()\n",
    "\n",
    "            logger.log_step(reward, loss, q)\n",
    "\n",
    "            state = next_state\n",
    "\n",
    "            if done:\n",
    "                print('info: ', info)\n",
    "                break\n",
    "\n",
    "        logger.log_episode()\n",
    "\n",
    "        account_value = env.get_account_value()\n",
    "\n",
    "        logger.record(\n",
    "            episode=episode,\n",
    "            epsilon=agent.exploration_rate,\n",
    "            step=agent.curr_step,\n",
    "            account_value=account_value)"
   ],
   "metadata": {
    "collapsed": false,
    "pycharm": {
     "name": "#%%\n"
    }
   }
  },
  {
   "cell_type": "markdown",
   "source": [
    "## Training\n",
    "\n",
    "Only 80% of the total data is used during the training phase. That's because we want to avoid the model simply memorizing the dataset (overfitting) and obtaining a model that is generalized well in all market situations.\n",
    "\n",
    "The DQN model is a reccurrent neural network with 3 layer and with an hidden size of 64, the neural network will be given as input the hourly data of the previous week."
   ],
   "metadata": {
    "collapsed": false,
    "pycharm": {
     "name": "#%% md\n"
    }
   }
  },
  {
   "cell_type": "code",
   "execution_count": 14,
   "outputs": [],
   "source": [
    "training_portion = 0.8\n",
    "train_cl_df = cl_df[0:int(np.floor(len(cl_df) * training_portion))]\n",
    "env = FuturesEnv(df=train_cl_df,\n",
    "                 window_size=window_size,\n",
    "                 frame_bound=(window_size, len(train_cl_df)))\n",
    "agent = DDQNTradingAgent(\n",
    "    env.observation_space.shape[1],\n",
    "    env.action_space.n,\n",
    "    save_dir)\n",
    "logger = MetricLogger(save_dir)"
   ],
   "metadata": {
    "collapsed": false,
    "pycharm": {
     "name": "#%%\n"
    }
   }
  },
  {
   "cell_type": "code",
   "execution_count": null,
   "outputs": [],
   "source": [
    "train_loop(env, episodes, agent, logger)"
   ],
   "metadata": {
    "collapsed": false,
    "pycharm": {
     "name": "#%%\n"
    }
   }
  },
  {
   "cell_type": "markdown",
   "source": [
    "## Testing the model\n",
    "\n",
    "Now that the model has been trained, let's test its performance on the testing data (out of sample data)."
   ],
   "metadata": {
    "collapsed": false,
    "pycharm": {
     "name": "#%% md\n"
    }
   }
  },
  {
   "cell_type": "code",
   "execution_count": null,
   "outputs": [],
   "source": [
    "def model_testing(env, agent):\n",
    "\n",
    "    i = 0\n",
    "\n",
    "    state = env.reset()\n",
    "\n",
    "    while True:\n",
    "\n",
    "        action = agent.act(state, eval_mode=True)\n",
    "\n",
    "        next_state, reward, done, info = env.step(action)\n",
    "\n",
    "        state = next_state\n",
    "\n",
    "        if done:\n",
    "            print('info: ', info)\n",
    "            break\n",
    "\n",
    "        print(f'step: {i}, reward: {reward}, account_value: {env.get_account_value()}, action: {action}, position: {info[\"position\"]}')\n",
    "\n",
    "        i += 1"
   ],
   "metadata": {
    "collapsed": false,
    "pycharm": {
     "name": "#%%\n"
    }
   }
  },
  {
   "cell_type": "code",
   "execution_count": null,
   "outputs": [],
   "source": [
    "test_cl_df = cl_df[int(np.floor(len(cl_df) * training_portion)):]\n",
    "env = FuturesEnv(df=test_cl_df,\n",
    "                 window_size=window_size,\n",
    "                 frame_bound=(window_size, len(test_cl_df)))"
   ],
   "metadata": {
    "collapsed": false,
    "pycharm": {
     "name": "#%%\n"
    }
   }
  },
  {
   "cell_type": "code",
   "execution_count": null,
   "outputs": [],
   "source": [
    "model_testing(env, agent)"
   ],
   "metadata": {
    "collapsed": false,
    "pycharm": {
     "name": "#%%\n"
    }
   }
  },
  {
   "cell_type": "code",
   "execution_count": null,
   "outputs": [],
   "source": [
    "plt.cla()\n",
    "env.render_all()\n",
    "plt.title('Testing')"
   ],
   "metadata": {
    "collapsed": false,
    "pycharm": {
     "name": "#%%\n"
    }
   }
  },
  {
   "cell_type": "markdown",
   "source": [
    "## Testing period Statistics"
   ],
   "metadata": {
    "collapsed": false,
    "pycharm": {
     "name": "#%% md\n"
    }
   }
  },
  {
   "cell_type": "code",
   "execution_count": null,
   "outputs": [],
   "source": [
    "qs.extend_pandas()\n",
    "\n",
    "net_worth = pd.Series(env.history['total_profit'], index=test_cl_df.index[22:])\n",
    "net_worth.index = pd.to_datetime(net_worth.index)\n",
    "\n",
    "returns = net_worth.pct_change().iloc[1:]\n",
    "\n",
    "qs.reports.full(returns, match_dates=True)"
   ],
   "metadata": {
    "collapsed": false,
    "pycharm": {
     "name": "#%%\n"
    }
   }
  }
 ],
 "metadata": {
  "kernelspec": {
   "name": "python3",
   "language": "python",
   "display_name": "Python 3 (ipykernel)"
  },
  "language_info": {
   "codemirror_mode": {
    "name": "ipython",
    "version": 3
   },
   "file_extension": ".py",
   "mimetype": "text/x-python",
   "name": "python",
   "nbconvert_exporter": "python",
   "pygments_lexer": "ipython3",
   "version": "3.8.10"
  }
 },
 "nbformat": 4,
 "nbformat_minor": 1
}