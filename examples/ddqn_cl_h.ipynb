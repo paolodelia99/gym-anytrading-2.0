{
 "cells": [
  {
   "cell_type": "markdown",
   "metadata": {
    "pycharm": {
     "name": "#%% md\n"
    }
   },
   "source": [
    "# Duelling Deep Q-Networks on Crude Oil hourly data\n",
    "\n",
    "In this notebook a recurrent DQN model is trained on the crude oil hourly dataset, enriched with the ATR and session volume data."
   ]
  },
  {
   "cell_type": "code",
   "execution_count": null,
   "metadata": {
    "collapsed": true,
    "pycharm": {
     "name": "#%%\n"
    }
   },
   "outputs": [],
   "source": [
    "from datetime import datetime\n",
    "from pathlib import Path\n",
    "\n",
    "import matplotlib.pyplot as plt\n",
    "import numpy as np\n",
    "import pandas as pd\n",
    "import torch\n",
    "\n",
    "from gym_anytrading.agents.DDQN_agent import DDQNTradingAgent\n",
    "from gym_anytrading.envs.future_env import FuturesEnv\n",
    "from utils import MetricLogger"
   ]
  },
  {
   "cell_type": "code",
   "execution_count": null,
   "metadata": {
    "pycharm": {
     "name": "#%%\n"
    }
   },
   "outputs": [],
   "source": [
    "torch.manual_seed(0)\n",
    "np.random.seed(0)"
   ]
  },
  {
   "cell_type": "code",
   "execution_count": null,
   "metadata": {
    "pycharm": {
     "name": "#%%\n"
    }
   },
   "outputs": [],
   "source": [
    "data_path = 'data/CL1!_adj.csv'\n",
    "save_dir = Path(\"models/ddqn_cl_checkpoints\") / datetime.now().strftime(\"%Y-%m-%dT%H-%M-%S\")"
   ]
  },
  {
   "cell_type": "code",
   "execution_count": null,
   "outputs": [],
   "source": [
    "cl_df = pd.read_csv(data_path, index_col=0, parse_dates=True)\n",
    "cl_df"
   ],
   "metadata": {
    "collapsed": false,
    "pycharm": {
     "name": "#%%\n"
    }
   }
  },
  {
   "cell_type": "markdown",
   "metadata": {
    "pycharm": {
     "name": "#%% md\n"
    }
   },
   "source": [
    "## Preprocessing\n",
    "\n",
    "The preprocessing phase consist in the following phases:\n",
    "\n",
    "- addition of cyclical features for the time-related variables\n",
    "- standardization of the data"
   ]
  },
  {
   "cell_type": "code",
   "execution_count": null,
   "metadata": {
    "pycharm": {
     "name": "#%%\n"
    }
   },
   "outputs": [],
   "source": [
    "def add_cyclical_features(df):\n",
    "    df['date'] = pd.to_datetime(df.index.copy(), format='%Y-%m-%d %H:%M:%S')\n",
    "    df['hour_sin'] = df['date'].apply(lambda x: np.sin(x.hour * (2. * np.pi / 24)))\n",
    "    df['hour_cos'] = df['date'].apply(lambda x: np.cos(x.hour * (2. * np.pi / 24)))\n",
    "    df['day_sin'] = df['date'].apply(lambda x: np.sin(x.day * (2. * np.pi / 30)))\n",
    "    df['day_cos'] = df['date'].apply(lambda x: np.cos(x.day * (2. * np.pi / 30)))\n",
    "    df['month_sin'] = df['date'].apply(lambda x: np.sin(x.month * (2. * np.pi / 12)))\n",
    "    df['month_cos'] = df['date'].apply(lambda x: np.cos(x.month * (2. * np.pi / 12)))\n",
    "    df = df.drop('date', axis=1)\n",
    "    return df"
   ]
  },
  {
   "cell_type": "code",
   "execution_count": null,
   "metadata": {
    "pycharm": {
     "name": "#%%\n"
    }
   },
   "outputs": [],
   "source": [
    "cl_df = add_cyclical_features(cl_df)"
   ]
  },
  {
   "cell_type": "markdown",
   "metadata": {
    "pycharm": {
     "name": "#%% md\n"
    }
   },
   "source": [
    "## Train Loop"
   ]
  },
  {
   "cell_type": "code",
   "execution_count": null,
   "metadata": {
    "pycharm": {
     "name": "#%%\n"
    }
   },
   "outputs": [],
   "source": [
    "def train_loop(env, episodes: int, agent, logger):\n",
    "    for episode in range(episodes):\n",
    "\n",
    "        state = env.reset()\n",
    "\n",
    "        while True:\n",
    "\n",
    "            action = agent.act(state)\n",
    "\n",
    "            next_state, reward, done, info = env.step(action)\n",
    "\n",
    "            agent.cache(state, next_state, action, reward, done)\n",
    "\n",
    "            q, loss = agent.learn()\n",
    "\n",
    "            logger.log_step(reward, loss, q)\n",
    "\n",
    "            state = next_state\n",
    "\n",
    "            if done:\n",
    "                print('info: ', info)\n",
    "                break\n",
    "\n",
    "        logger.log_episode()\n",
    "\n",
    "        account_value = env.get_account_value()\n",
    "\n",
    "        logger.record(\n",
    "            episode=episode,\n",
    "            epsilon=agent.exploration_rate,\n",
    "            step=agent.curr_step,\n",
    "            account_value=account_value)"
   ]
  },
  {
   "cell_type": "markdown",
   "metadata": {
    "pycharm": {
     "name": "#%% md\n"
    }
   },
   "source": [
    "## Training\n",
    "\n",
    "Only 80% of the total data is used during the training phase. That's because we want to avoid the model simply memorizing the dataset (overfitting) and obtaining a model that is generalized well in all market situations.\n",
    "\n",
    "The DQN model is a reccurrent neural network with  3 layer and with an hidden size of 64, the neural network will be given as input the hourly data of the previous week."
   ]
  },
  {
   "cell_type": "code",
   "execution_count": null,
   "metadata": {
    "pycharm": {
     "name": "#%%\n"
    }
   },
   "outputs": [],
   "source": [
    "training_portion = 0.8\n",
    "train_cl_df = cl_df[0:int(np.floor(len(cl_df) * training_portion))]\n",
    "episodes = 400\n",
    "window_size = 115\n",
    "env = FuturesEnv(df=train_cl_df,\n",
    "                 window_size=window_size,\n",
    "                 frame_bound=(window_size, len(train_cl_df)))\n",
    "agent = DDQNTradingAgent(\n",
    "    env.observation_space.shape[1],\n",
    "    env.action_space.n,\n",
    "    save_dir)\n",
    "logger = MetricLogger(save_dir)"
   ]
  },
  {
   "cell_type": "code",
   "execution_count": null,
   "metadata": {
    "pycharm": {
     "name": "#%%\n"
    }
   },
   "outputs": [],
   "source": [
    "train_loop(env, episodes, agent, logger)"
   ]
  },
  {
   "cell_type": "markdown",
   "metadata": {
    "pycharm": {
     "name": "#%% md\n"
    }
   },
   "source": [
    "## Testing the model\n",
    "\n",
    "Now that the model has been trained, let's test its performance on the testing data (out of sample data)."
   ]
  },
  {
   "cell_type": "code",
   "execution_count": null,
   "metadata": {
    "pycharm": {
     "name": "#%%\n"
    }
   },
   "outputs": [],
   "source": [
    "def model_testing(env, agent):\n",
    "\n",
    "    i = 0\n",
    "\n",
    "    state = env.reset()\n",
    "\n",
    "    while True:\n",
    "\n",
    "        action = agent.act(state, eval_mode=True)\n",
    "\n",
    "        next_state, reward, done, info = env.step(action)\n",
    "\n",
    "        state = next_state\n",
    "\n",
    "        if done:\n",
    "            print('info: ', info)\n",
    "            break\n",
    "\n",
    "        print(f'step: {i}, reward: {reward}, account_value: {env.get_account_value()}, action: {action}, position: {info[\"position\"]}')\n",
    "\n",
    "        i += 1"
   ]
  },
  {
   "cell_type": "code",
   "execution_count": null,
   "metadata": {
    "pycharm": {
     "name": "#%%\n"
    }
   },
   "outputs": [],
   "source": [
    "test_cl_df = cl_df[int(np.floor(len(cl_df) * training_portion)):]\n",
    "env = FuturesEnv(df=test_cl_df,\n",
    "                 window_size=window_size,\n",
    "                 frame_bound=(window_size, len(test_cl_df)))"
   ]
  },
  {
   "cell_type": "code",
   "execution_count": null,
   "metadata": {
    "pycharm": {
     "name": "#%%\n"
    }
   },
   "outputs": [],
   "source": [
    "model_testing(env, agent)"
   ]
  },
  {
   "cell_type": "code",
   "execution_count": null,
   "metadata": {
    "pycharm": {
     "name": "#%%\n"
    }
   },
   "outputs": [],
   "source": [
    "plt.cla()\n",
    "env.render_all()\n",
    "plt.title('Testing')"
   ]
  },
  {
   "cell_type": "markdown",
   "metadata": {
    "pycharm": {
     "name": "#%% md\n"
    }
   },
   "source": [
    "> comment on the model performance"
   ]
  }
 ],
 "metadata": {
  "kernelspec": {
   "display_name": "Python 3 (ipykernel)",
   "language": "python",
   "name": "python3"
  },
  "language_info": {
   "codemirror_mode": {
    "name": "ipython",
    "version": 3
   },
   "file_extension": ".py",
   "mimetype": "text/x-python",
   "name": "python",
   "nbconvert_exporter": "python",
   "pygments_lexer": "ipython3",
   "version": "3.8.10"
  }
 },
 "nbformat": 4,
 "nbformat_minor": 1
}